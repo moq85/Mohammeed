{
 "cells": [
  {
   "cell_type": "markdown",
   "id": "79603724",
   "metadata": {},
   "source": [
    "# Exercise 2 — Title of the Notebook\n",
    "# **Data Science Tools and Ecosystem**"
   ]
  },
  {
   "cell_type": "markdown",
   "id": "bb761fbd",
   "metadata": {},
   "source": [
    "# Exercise 3 — Introduction\n",
    "In this notebook, we summarize some of the most widely used **data science languages**, **libraries**, and **tools**.  \n",
    "We also demonstrate a few **arithmetic expressions** in Python and include simple utility code."
   ]
  },
  {
   "cell_type": "markdown",
   "id": "aa8322a6",
   "metadata": {},
   "source": [
    "# Exercise 4 — Data Science Languages\n",
    "- Python  \n",
    "- R  \n",
    "- SQL  \n",
    "- Scala  \n",
    "- Julia"
   ]
  },
  {
   "cell_type": "markdown",
   "id": "cfc74eb0",
   "metadata": {},
   "source": [
    "# Exercise 5 — Data Science Libraries\n",
    "- **Python**: NumPy, pandas, Matplotlib, Seaborn, scikit-learn, TensorFlow, Keras  \n",
    "- **R**: ggplot2, dplyr, caret, tidyverse  \n",
    "- **General**: Spark MLlib, XGBoost"
   ]
  },
  {
   "cell_type": "markdown",
   "id": "41701ef2",
   "metadata": {},
   "source": [
    "# Exercise 6 — Table of Data Science Tools\n",
    "| Tool              | Category              | Typical Use                                   |\n",
    "|-------------------|-----------------------|-----------------------------------------------|\n",
    "| Jupyter Notebook  | Interactive Notebook  | Prototyping, EDA, documentation               |\n",
    "| RStudio           | IDE                   | R development, reporting, Shiny apps          |\n",
    "| VS Code           | Editor/IDE            | Multi-language development & extensions       |\n",
    "| Apache Spark      | Big Data/Compute      | Distributed processing & ML at scale          |\n",
    "| GitHub            | Version Control       | Collaboration, versioning, CI/CD              |"
   ]
  },
  {
   "cell_type": "markdown",
   "id": "a1e365e0",
   "metadata": {},
   "source": [
    "# Exercise 7 — Intro to Arithmetic Expressions\n",
    "Below we evaluate basic arithmetic expressions in Python (multiplication ➜ addition), followed by a small time conversion helper."
   ]
  },
  {
   "cell_type": "code",
   "execution_count": null,
   "id": "3e4dbfec",
   "metadata": {},
   "outputs": [],
   "source": [
    "# Exercise 8 — Multiply and Add Numbers\n",
    "# Example: (3 * 4) + 5\n",
    "result = (3 * 4) + 5\n",
    "print(\"Result of (3 * 4) + 5 =\", result)"
   ]
  },
  {
   "cell_type": "code",
   "execution_count": null,
   "id": "4431f625",
   "metadata": {},
   "outputs": [],
   "source": [
    "# Exercise 9 — Convert Minutes to Hours\n",
    "# Example conversion:\n",
    "minutes = 200\n",
    "hours = minutes / 60\n",
    "print(f\"{minutes} minutes is {hours:.2f} hours\")"
   ]
  },
  {
   "cell_type": "markdown",
   "id": "43a5320f",
   "metadata": {},
   "source": [
    "# Exercise 10 — Objectives\n",
    "- List popular data science **languages**  \n",
    "- List common data science **libraries**  \n",
    "- Create a **table** of data science tools  \n",
    "- Run simple **arithmetic expressions** in Python  \n",
    "- Convert **minutes to hours** with code"
   ]
  },
  {
   "cell_type": "markdown",
   "id": "e2272b2d",
   "metadata": {},
   "source": [
    "# Exercise 11 — Author\n",
    "**Author:** Mohammed Alhadi  \n",
    "**Date:** 2025-08-24"
   ]
  },
  {
   "cell_type": "markdown",
   "id": "5ec47d9b",
   "metadata": {},
   "source": [
    "# (Helper) Exercise 12 & 13 — Share & Screenshot Instructions\n",
    "- **Exercise 12 (Share via GitHub):**  \n",
    "  1) Save this notebook.  \n",
    "  2) Create a public GitHub repo (or use an existing one).  \n",
    "  3) Click **Add file → Upload files** and upload the `.ipynb`.  \n",
    "  4) Ensure the repository is **public**.\n",
    "\n",
    "- **Exercise 13 (Screenshot first page):**  \n",
    "  1) Open the notebook on GitHub.  \n",
    "  2) Take a screenshot of the **top part** (title visible).  \n",
    "  3) Save as `screenshot.png` for submission."
   ]
  }
 ],
 "metadata": {},
 "nbformat": 4,
 "nbformat_minor": 5
}
